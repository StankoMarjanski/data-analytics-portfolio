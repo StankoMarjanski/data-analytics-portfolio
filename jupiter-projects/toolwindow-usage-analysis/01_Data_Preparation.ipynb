{
 "cells": [
  {
   "metadata": {},
   "cell_type": "markdown",
   "source": [
    "# Introduction\n",
    "- This notebook covers:\n",
    "    - Loading of the `toolwindow_data.csv`\n",
    "    - Exploratory Data Analysis (EDA)\n",
    "    - Cleaning"
   ],
   "id": "863960e56d37bd3b"
  },
  {
   "metadata": {},
   "cell_type": "markdown",
   "source": "# Imports",
   "id": "956ee85455d2f7b4"
  },
  {
   "metadata": {
    "collapsed": true
   },
   "cell_type": "code",
   "source": [
    "import pandas as pd\n",
    "import plotly.express as px"
   ],
   "id": "51e5a24e3eb63416",
   "outputs": [],
   "execution_count": null
  },
  {
   "metadata": {},
   "cell_type": "markdown",
   "source": "# Load Dataset",
   "id": "2614460815de45eb"
  },
  {
   "metadata": {},
   "cell_type": "code",
   "source": "df = pd.read_csv(r'data/toolwindow_data.csv')",
   "id": "50175d020712cb54",
   "outputs": [],
   "execution_count": null
  },
  {
   "metadata": {},
   "cell_type": "code",
   "source": "df",
   "id": "a7f2edd5165385a7",
   "outputs": [],
   "execution_count": null
  },
  {
   "metadata": {},
   "cell_type": "markdown",
   "source": "# Exploratory Data Analysis (EDA)",
   "id": "84f85521e56c9901"
  },
  {
   "metadata": {},
   "cell_type": "markdown",
   "source": [
    "## 1. Basic Information\n",
    "In this section, we check dataset structure, columns, and a quick sample of records."
   ],
   "id": "ec31e36952bc6483"
  },
  {
   "metadata": {},
   "cell_type": "code",
   "source": "df.shape",
   "id": "f43d01d6b871d7dd",
   "outputs": [],
   "execution_count": null
  },
  {
   "metadata": {},
   "cell_type": "code",
   "source": "print(\"Columns:\", \", \".join(df.columns))",
   "id": "d63930f2e756e316",
   "outputs": [],
   "execution_count": null
  },
  {
   "metadata": {},
   "cell_type": "code",
   "source": "df.info()",
   "id": "3bb98bdb1b97f700",
   "outputs": [],
   "execution_count": null
  },
  {
   "metadata": {},
   "cell_type": "code",
   "source": "df.head()",
   "id": "323ef31fb48eaecd",
   "outputs": [],
   "execution_count": null
  },
  {
   "metadata": {},
   "cell_type": "code",
   "source": "df.tail()",
   "id": "c78470eee698b627",
   "outputs": [],
   "execution_count": null
  },
  {
   "metadata": {},
   "cell_type": "markdown",
   "source": [
    "## 2. Checks\n",
    "Checks for nulls and duplicates, and checks of total counts for event and open types to understand overall balance."
   ],
   "id": "41f50e6a9a6c439b"
  },
  {
   "metadata": {},
   "cell_type": "code",
   "source": "print(\"Nulls per column:\\n\", df.isnull().sum())",
   "id": "7317d7d22189a0dc",
   "outputs": [],
   "execution_count": null
  },
  {
   "metadata": {},
   "cell_type": "code",
   "source": "print(\"Duplicate rows:\", df.duplicated().sum())",
   "id": "d636977e343e71d9",
   "outputs": [],
   "execution_count": null
  },
  {
   "metadata": {},
   "cell_type": "code",
   "source": "df['event'].value_counts()",
   "id": "974b6beba720919f",
   "outputs": [],
   "execution_count": null
  },
  {
   "metadata": {},
   "cell_type": "code",
   "source": "df['open_type'].value_counts(dropna=False)",
   "id": "9c984cbd380a4b8a",
   "outputs": [],
   "execution_count": null
  },
  {
   "metadata": {},
   "cell_type": "markdown",
   "source": [
    "## 3. Time Range and Event Distribution\n",
    "We check the time coverage and visualize how events occur over time."
   ],
   "id": "7b476eabc63fb80e"
  },
  {
   "metadata": {},
   "cell_type": "code",
   "source": [
    "# The timestamps are in epoch milliseconds,so the new column is added where they are converted to datetime format\n",
    "df['datetime'] = pd.to_datetime(df['timestamp'], unit='ms')\n",
    "df['datetime']"
   ],
   "id": "649940bca82a9aa7",
   "outputs": [],
   "execution_count": null
  },
  {
   "metadata": {},
   "cell_type": "code",
   "source": [
    "print(f\"Min time: {df['datetime'].min()}\\nMax time: {df['datetime'].max()}\"\n",
    "      f\"\\nTime range: {df['datetime'].max() - df['datetime'].min()}\")"
   ],
   "id": "499f01a7e6ee316",
   "outputs": [],
   "execution_count": null
  },
  {
   "metadata": {},
   "cell_type": "code",
   "source": [
    "fig = px.histogram(\n",
    "    df,\n",
    "    x='datetime',\n",
    "    color='event',\n",
    "    nbins=50,\n",
    "    title='Event Frequency Over Time',\n",
    "    opacity=0.75\n",
    ")\n",
    "\n",
    "fig.update_layout(\n",
    "    xaxis_title='Datetime',\n",
    "    yaxis_title='Count',\n",
    "    bargap=0.1,\n",
    "    legend_title='Event'\n",
    ")\n",
    "\n",
    "fig.show()"
   ],
   "id": "a261ad42f37c009a",
   "outputs": [],
   "execution_count": null
  },
  {
   "metadata": {},
   "cell_type": "markdown",
   "source": [
    "# Cleaning\n",
    "- Except for adding of the 'datetime' column, **no cleaning is required**.\n",
    "- This is because the 'open_type' column is only populated on 'open' events(with values 'auto' and 'manual'), and the nulls appear solely on 'close' events, so nulls do not affect the session reconstruction and its analysis in the later stages."
   ],
   "id": "76cbc3581facd1df"
  }
 ],
 "metadata": {
  "kernelspec": {
   "display_name": "Python 3",
   "language": "python",
   "name": "python3"
  },
  "language_info": {
   "codemirror_mode": {
    "name": "ipython",
    "version": 2
   },
   "file_extension": ".py",
   "mimetype": "text/x-python",
   "name": "python",
   "nbconvert_exporter": "python",
   "pygments_lexer": "ipython2",
   "version": "2.7.6"
  }
 },
 "nbformat": 4,
 "nbformat_minor": 5
}
