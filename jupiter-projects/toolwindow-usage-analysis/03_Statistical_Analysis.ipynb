{
 "cells": [
  {
   "metadata": {},
   "cell_type": "markdown",
   "source": [
    "# Introduction\n",
    "- This notebook compares tool-window session durations for **manual** vs **auto** opens.\n",
    "- It contains the following sections:\n",
    "  - Loading the `sessions.csv` file\n",
    "  - Computing descriptive statistics\n",
    "  - Visualizing distributions (interactive Plotly charts)\n",
    "  - Running normality / variance checks and the main hypothesis tests:\n",
    "    - t-tests (Student’s and Welch’s, depending on variance)\n",
    "    - Mann–Whitney U (nonparametric)\n",
    "    - Kolmogorov–Smirnov (distributional comparison)\n",
    "  - Computing effect sizes (Cohen’s d, Cliff’s delta)\n",
    "  - Summarizing conclusions"
   ],
   "id": "b25c9a345ecb262a"
  },
  {
   "metadata": {},
   "cell_type": "markdown",
   "source": "# Imports",
   "id": "3724d70268a1305f"
  },
  {
   "metadata": {
    "collapsed": true
   },
   "cell_type": "code",
   "source": [
    "import pandas as pd\n",
    "import numpy as np\n",
    "import plotly.express as px\n",
    "import plotly.graph_objects as go\n",
    "from scipy import stats\n",
    "import math"
   ],
   "id": "39243a6d0643a9c4",
   "outputs": [],
   "execution_count": null
  },
  {
   "metadata": {},
   "cell_type": "markdown",
   "source": "# Load sessions and quick checks",
   "id": "13099771b4578d0e"
  },
  {
   "metadata": {},
   "cell_type": "code",
   "source": "sessions = pd.read_csv(r\"data/sessions.csv\")",
   "id": "facab284ea1afeba",
   "outputs": [],
   "execution_count": null
  },
  {
   "metadata": {},
   "cell_type": "code",
   "source": "print(\"Columns:\", \", \".join(sessions.columns))",
   "id": "28cb64214f967b6",
   "outputs": [],
   "execution_count": null
  },
  {
   "metadata": {},
   "cell_type": "code",
   "source": "sessions['open_type'].value_counts(dropna=False)",
   "id": "1fc80c5b36993355",
   "outputs": [],
   "execution_count": null
  },
  {
   "metadata": {},
   "cell_type": "markdown",
   "source": "# Descriptive Statistics and Data Visualization",
   "id": "cdceba3445bbb889"
  },
  {
   "metadata": {},
   "cell_type": "code",
   "source": [
    "# Create the two series we'll analyze\n",
    "manual_dur = sessions[sessions['open_type'] == 'manual']['duration_sec']\n",
    "auto_dur   = sessions[sessions['open_type'] == 'auto']['duration_sec']\n",
    "\n",
    "# Descriptive statistics table\n",
    "def describe_series(s):\n",
    "    return {\n",
    "        'count': len(s),\n",
    "        'mean': s.mean(),\n",
    "        'median': s.median(),\n",
    "        'std': s.std(),\n",
    "        'min': s.min(),\n",
    "        '25%': s.quantile(0.25),\n",
    "        '75%': s.quantile(0.75),\n",
    "        'max': s.max(),\n",
    "        'skew': s.skew(),\n",
    "        'kurtosis': s.kurtosis()\n",
    "    }\n",
    "\n",
    "desc = pd.DataFrame({\n",
    "    'manual': describe_series(manual_dur),\n",
    "    'auto':   describe_series(auto_dur)\n",
    "}).T\n",
    "\n",
    "print(\"Descriptive Statistics Table:\")\n",
    "desc.round(3)"
   ],
   "id": "3366626152429f89",
   "outputs": [],
   "execution_count": null
  },
  {
   "metadata": {},
   "cell_type": "code",
   "source": [
    "# Histogram overlay\n",
    "fig = px.histogram(sessions, x='duration_sec', color='open_type', barmode='overlay',\n",
    "                   nbins=80, range_x=[0, sessions['duration_sec'].quantile(0.99)],\n",
    "                   labels={'duration_sec':'Duration (s)', 'open_type':'Open Type'},\n",
    "                   title='Duration histograms (trimmed at 99th percentile)')\n",
    "fig.update_layout(legend_title_text='Open Type')\n",
    "fig.show()"
   ],
   "id": "c465036a183b80c8",
   "outputs": [],
   "execution_count": null
  },
  {
   "metadata": {},
   "cell_type": "code",
   "source": [
    "# Box plot (use log scale if durations are skewed)\n",
    "fig2 = px.box(sessions, x='open_type', y='duration_sec', color='open_type',\n",
    "              labels={'open_type':'Open Type','duration_sec':'Duration (s)'},\n",
    "              title='Boxplot of durations by open_type')\n",
    "fig2.update_layout(legend_title_text='Open Type')\n",
    "fig2.show()"
   ],
   "id": "492bf3340d8093ec",
   "outputs": [],
   "execution_count": null
  },
  {
   "metadata": {},
   "cell_type": "code",
   "source": [
    "# Violin plot\n",
    "fig3 = px.violin(sessions, x='open_type', y='duration_sec', color='open_type', box=True, points='outliers',\n",
    "                 labels={'open_type':'Open Type','duration_sec':'Duration (s)'},\n",
    "                 title='Violin plot of durations by open_type')\n",
    "fig3.update_layout(legend_title_text='Open Type')\n",
    "fig3.show()"
   ],
   "id": "a1a689ee67658116",
   "outputs": [],
   "execution_count": null
  },
  {
   "metadata": {},
   "cell_type": "code",
   "source": [
    "# ECDF plot\n",
    "def ecdf(df, label):\n",
    "    x = np.sort(df)\n",
    "    y = np.arange(1, len(x)+1) / len(x)\n",
    "    return x, y\n",
    "\n",
    "mx, my = ecdf(manual_dur.values, 'manual'); ax, ay = ecdf(auto_dur.values, 'auto')\n",
    "ecdf_fig = go.Figure()\n",
    "ecdf_fig.add_trace(go.Scatter(x=mx, y=my, mode='lines', name='manual'))\n",
    "ecdf_fig.add_trace(go.Scatter(x=ax, y=ay, mode='lines', name='auto'))\n",
    "ecdf_fig.update_layout(title='Empirical CDF of durations', xaxis_title='Duration (s)', yaxis_title='ECDF', legend_title_text='Open Type')\n",
    "ecdf_fig.show()"
   ],
   "id": "3fef1797ed3871c0",
   "outputs": [],
   "execution_count": null
  },
  {
   "metadata": {},
   "cell_type": "markdown",
   "source": "# Normality and Variance Tests",
   "id": "635b5e0e70934e7"
  },
  {
   "metadata": {},
   "cell_type": "code",
   "source": [
    "# Normality and variance checks (Shapiro sampled, D'Agostino for large n, Levene)\n",
    "# Note: Shapiro is sensitive for very large samples - we'll sample if required\n",
    "def shapiro_safe(series, sample_n=5000):\n",
    "    n = len(series)\n",
    "    if n > sample_n:\n",
    "        sample = series.sample(sample_n, random_state=42)\n",
    "        print(f\"Shapiro test on random sample of {sample_n} (original n={n})\")\n",
    "        return stats.shapiro(sample)\n",
    "    else:\n",
    "        return stats.shapiro(series)\n",
    "\n",
    "print(\"Shapiro (manual):\", shapiro_safe(manual_dur))\n",
    "print(\"Shapiro (auto):  \", shapiro_safe(auto_dur))\n",
    "\n",
    "# D'Agostino's K^2 (ok for larger n)\n",
    "print(\"\\nD'Agostino's K^2 (normaltest):\", stats.normaltest(manual_dur), stats.normaltest(auto_dur))\n",
    "\n",
    "# Variance equality (Levene)\n",
    "levene_res = stats.levene(manual_dur, auto_dur)\n",
    "print(\"\\nLevene test for equal variances p-value:\", levene_res.pvalue)"
   ],
   "id": "aef24814e3b51da3",
   "outputs": [],
   "execution_count": null
  },
  {
   "metadata": {},
   "cell_type": "markdown",
   "source": "# Hypothesis Tests",
   "id": "aff7d1cbf2dce6b9"
  },
  {
   "metadata": {},
   "cell_type": "code",
   "source": [
    "# Hypothesis tests\n",
    "alpha = 0.05\n",
    "\n",
    "# T-tests\n",
    "tt_equal = stats.ttest_ind(manual_dur, auto_dur, equal_var=True, nan_policy='omit')\n",
    "tt_welch = stats.ttest_ind(manual_dur, auto_dur, equal_var=False, nan_policy='omit')\n",
    "print(\"Student t-test (equal var) p-value:\", tt_equal.pvalue)\n",
    "print(\"Welch t-test (unequal var) p-value: \", tt_welch.pvalue)\n",
    "\n",
    "# Mann-Whitney U (nonparametric)\n",
    "mw = stats.mannwhitneyu(manual_dur, auto_dur, alternative='two-sided')\n",
    "print(\"Mann-Whitney U p-value:\", mw.pvalue)\n",
    "\n",
    "# Kolmogorov-Smirnov (distributional difference)\n",
    "ks = stats.ks_2samp(manual_dur, auto_dur)\n",
    "print(\"KS two-sample p-value:\", ks.pvalue)"
   ],
   "id": "58a114e0db47d581",
   "outputs": [],
   "execution_count": null
  },
  {
   "metadata": {},
   "cell_type": "markdown",
   "source": "# Effect Size",
   "id": "d438a5e9334b7c1f"
  },
  {
   "metadata": {},
   "cell_type": "code",
   "source": [
    "# Effect sizes\n",
    "\n",
    "# Cohen's d (Welch-style pooled)\n",
    "def cohens_d(a, b):\n",
    "    na, nb = len(a), len(b)\n",
    "    ma, mb = a.mean(), b.mean()\n",
    "    sa2, sb2 = a.var(ddof=1), b.var(ddof=1)\n",
    "    # pooled std (for Cohen d, use sqrt((sa2+sb2)/2)) — common choice\n",
    "    pooled_sd = math.sqrt((sa2 + sb2) / 2.0)\n",
    "    return (ma - mb) / pooled_sd\n",
    "\n",
    "print(\"Cohen's d (manual - auto):\", round(cohens_d(manual_dur, auto_dur), 3))\n",
    "\n",
    "# Cliff's delta (non-parametric effect; returns proportion difference)\n",
    "def cliffs_delta(a, b):\n",
    "    # efficient pairwise sign count\n",
    "    a = np.array(a)\n",
    "    b = np.array(b)\n",
    "    gt = 0\n",
    "    lt = 0\n",
    "    for x in a:\n",
    "        gt += np.sum(x > b)\n",
    "        lt += np.sum(x < b)\n",
    "    n = len(a) * len(b)\n",
    "    return (gt - lt) / n\n",
    "\n",
    "print(\"Cliff's delta (manual vs auto):\", round(cliffs_delta(manual_dur, auto_dur), 4))"
   ],
   "id": "f3ead54d17c3f2cc",
   "outputs": [],
   "execution_count": null
  },
  {
   "metadata": {},
   "cell_type": "markdown",
   "source": "# Robustness Checks",
   "id": "2ef81227cefed077"
  },
  {
   "metadata": {},
   "cell_type": "code",
   "source": [
    "# Bootstrap 95% CI for median difference\n",
    "def bootstrap_median_diff(a, b, n_boot=5000, seed=0):\n",
    "    rng = np.random.RandomState(seed)\n",
    "    diffs = []\n",
    "    a_vals = np.array(a)\n",
    "    b_vals = np.array(b)\n",
    "    for _ in range(n_boot):\n",
    "        s1 = rng.choice(a_vals, size=len(a_vals), replace=True)\n",
    "        s2 = rng.choice(b_vals, size=len(b_vals), replace=True)\n",
    "        diffs.append(np.median(s1) - np.median(s2))\n",
    "    return np.percentile(diffs, [2.5, 97.5])\n",
    "\n",
    "ci = bootstrap_median_diff(manual_dur.values, auto_dur.values)\n",
    "print(\"Bootstrap 95% CI for median(manual) - median(auto):\", ci)\n",
    "\n",
    "# Compute per-user medians\n",
    "user_medians = sessions.groupby(['user_id','open_type'])['duration_sec'].median().reset_index()\n",
    "manual_user = user_medians[user_medians['open_type']=='manual']['duration_sec']\n",
    "auto_user   = user_medians[user_medians['open_type']=='auto']['duration_sec']\n",
    "\n",
    "# Descriptive\n",
    "print(\"Users with manual median count:\", len(manual_user))\n",
    "print(\"Users with auto median count:\", len(auto_user))\n",
    "\n",
    "# Nonparametric test on per-user medians\n",
    "print(\"Mann-Whitney U on per-user medians p-value:\", stats.mannwhitneyu(manual_user, auto_user, alternative='two-sided').pvalue)\n",
    "\n",
    "log_manual = np.log1p(manual_dur)\n",
    "log_auto   = np.log1p(auto_dur)\n",
    "\n",
    "print(\"Welch t-test on log1p durations p-value:\", stats.ttest_ind(log_manual, log_auto, equal_var=False).pvalue)"
   ],
   "id": "e3f5fdcd24e63a77",
   "outputs": [],
   "execution_count": null
  },
  {
   "metadata": {},
   "cell_type": "markdown",
   "source": [
    "# Conclusion Summary on Statistical Analysis\n",
    "- Both manual and automatic **session durations** are strongly **right-skewed** and **non-normal**.\n",
    "- Statistical analysis consistently shows a **significant difference** between the two groups.\n",
    "- **Automatic** tool window opens **remain active considerably longer** than **manual** ones.\n",
    "- The **difference** is **robust** across multiple statistical approaches and **holds** at both **session** and **user** levels.\n",
    "- Visualizations **confirm** the same pattern — **automatic** sessions show a **wider spread** and **higher median duration**."
   ],
   "id": "94ade3e33743d538"
  },
  {
   "metadata": {},
   "cell_type": "markdown",
   "source": [
    "# Detailed Conclusions on the findings for each chapter in the Statistical Analysis Notebook\n",
    "## Descriptive Statistics and Visualization\n",
    "- The resulting dataset sessions.csv contained **1575** valid sessions:\n",
    "    - **957** opened automatically\n",
    "    - **618** opened manually\n",
    "- Descriptive Statistics Table\n",
    "| Group  | Count | Mean (sec) | Median | Std     | Min   | 25%   | 75%    | Max      | Skew | Kurtosis |\n",
    "| ------ | ----- | ---------- | ------ | ------- | ----- | ----- | ------ | -------- | ---- | -------- |\n",
    "| Manual | 618   | 575.67     | 11.86  | 2613.95 | 0.015 | 2.14  | 132.55 | 29639.70 | 7.88 | 72.33    |\n",
    "| Auto   | 957   | 1588.78    | 159.60 | 4414.78 | 0.15  | 31.66 | 890.96 | 34665.65 | 4.75 | 25.49    |\n",
    "- From the output of the descriptive statistics table we can conclude that:\n",
    "    - Both groups are highly right-skewed (many short sessions and a few very long ones).\n",
    "    - The mean duration is larger for automatic opens, and medians show a large practical difference ('**manual**' median ≈ **11.86 s**, '**auto**' median ≈ **159.60 s**). The large difference between mean and median indicates that a **small number of very long sessions inflate the mean**.\n",
    "- Visualizations (histogram, boxplot, violin, ECDF) **confirmed these conclusions**: automatic sessions are generally longer and more spread out.\n",
    "## Normality and Variance Tests\n",
    "| Test          | Group   | p-value       | Interpretation                 |\n",
    "| ------------- |---------|---------------|--------------------------------|\n",
    "| Shapiro–Wilk  | manual  | 9.19e-45      | Both p ≪ 0.05 → **Not normal** |\n",
    "|               | auto    | 8.54e-49      |                                |\n",
    "| D’Agostino K² | manual  | 2.39e-192     | Confirms **non-normality**     |\n",
    "|               | auto    | 2.70e-204     |                                |\n",
    "| Levene’s test |         | 7.98e-07      | **Variances unequal**          |\n",
    "\n",
    "- Conclusions:\n",
    "    - Both distributions are non-normal with unequal variances, so parametric tests (Student t-test) are not reliable.\n",
    "    - Therefore, Welch’s t-test (for means) and nonparametric tests (for medians/ranks) are more appropriete.\n",
    "## Hypothesis tests\n",
    "| Test                         | p-value  | Interpretation                                            |\n",
    "| ---------------------------- | -------- |-----------------------------------------------------------|\n",
    "| Student’s t-test (equal var) | 2.9e-07  | significant, but **invalid** due to assumptions           |\n",
    "| Welch’s t-test (unequal var) | 1.3e-08  | **significant** → mean durations differ                   |\n",
    "| Mann–Whitney U               | 2.15e-59 | **highly significant** → median/rank distributions differ |\n",
    "| Kolmogorov–Smirnov           | 3.50e-51 | strong evidence **distributions differ** overall          |\n",
    "- Conclusion:\n",
    "    - All tests indicate that the duration distributions for manual vs. auto opens are significantly different.\n",
    "    - Given non-normality and unequal variances, the Mann–Whitney U and KS tests are the most reliable here; they confirm that **automatic sessions** tend to be **longer**.\n",
    "## Effect Sizes\n",
    "| Metric        | Value  | Interpretation                              |\n",
    "| ------------- | ------ |---------------------------------------------|\n",
    "| Cohen’s d     | -0.279 | Small difference in means                   |\n",
    "| Cliff’s delta | -0.484 | Medium-to-large effect size (auto > manual) |\n",
    "- Conclusion:\n",
    "    - Cohen’s d (mean-based) is small because means are influenced by extreme outliers.\n",
    "    - Cliff’s delta (rank-based) ≈ −0.484 indicates a substantial practical difference: in pairwise comparisons an automatic session is substantially more likely to be longer than a manual one.\n",
    "## Robustness Checks\n",
    "- Robustness checks (bootstrap CI for median difference, per-user median test, and log-transformed Welch test) all confirm the main result: **automatic opens remain open significantly longer than manual opens** (median difference ≈ **148 seconds**, bootstrap 95% CI ≈ [**− 181, − 124**])."
   ],
   "id": "7fa6cd7cdb1747d1"
  }
 ],
 "metadata": {
  "kernelspec": {
   "display_name": "Python 3",
   "language": "python",
   "name": "python3"
  },
  "language_info": {
   "codemirror_mode": {
    "name": "ipython",
    "version": 2
   },
   "file_extension": ".py",
   "mimetype": "text/x-python",
   "name": "python",
   "nbconvert_exporter": "python",
   "pygments_lexer": "ipython2",
   "version": "2.7.6"
  }
 },
 "nbformat": 4,
 "nbformat_minor": 5
}
