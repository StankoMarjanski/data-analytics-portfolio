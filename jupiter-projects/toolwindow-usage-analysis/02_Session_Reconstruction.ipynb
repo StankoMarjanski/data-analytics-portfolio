{
 "cells": [
  {
   "metadata": {},
   "cell_type": "markdown",
   "source": [
    "# Introduction\n",
    "- This notebook covers:\n",
    "    - Loading and sorting of the `toolwindow_data.csv`\n",
    "    - Session reconstruction\n",
    "    - Quick overview of the newly generated `sessions.csv`"
   ],
   "id": "49448e690122d895"
  },
  {
   "metadata": {},
   "cell_type": "markdown",
   "source": "# Imports",
   "id": "40fa89ae3021f582"
  },
  {
   "metadata": {
    "collapsed": true
   },
   "cell_type": "code",
   "source": [
    "import pandas as pd\n",
    "import plotly.express as px"
   ],
   "id": "2cc769d2ab4f2dac",
   "outputs": [],
   "execution_count": null
  },
  {
   "metadata": {},
   "cell_type": "markdown",
   "source": "# Load and Sort Data",
   "id": "de83ae7ed1f0cbdb"
  },
  {
   "metadata": {},
   "cell_type": "code",
   "source": [
    "df = pd.read_csv(r'data/toolwindow_data.csv')\n",
    "df['datetime'] = pd.to_datetime(df['timestamp'], unit='ms')\n",
    "df = df.sort_values(['user_id', 'datetime'])\n",
    "df"
   ],
   "id": "9075273d275cadcd",
   "outputs": [],
   "execution_count": null
  },
  {
   "metadata": {},
   "cell_type": "markdown",
   "source": "# Session Reconstruction by matching Open/Close pairs",
   "id": "799e0dabd7715e74"
  },
  {
   "metadata": {},
   "cell_type": "code",
   "source": [
    "sessions = []\n",
    "\n",
    "for user_id, group in df.groupby('user_id'):\n",
    "    open_stack = []\n",
    "\n",
    "    for _, row in group.iterrows():\n",
    "        if row['event'] == 'opened':\n",
    "            open_stack.append((row['datetime'], row['open_type']))\n",
    "\n",
    "        elif row['event'] == 'closed' and open_stack:\n",
    "            open_time, open_type = open_stack.pop()\n",
    "            duration = (row['datetime'] - open_time).total_seconds()\n",
    "\n",
    "            if 0 < duration < 36000: # remove negatives and >10 hours\n",
    "                sessions.append({\n",
    "                    'user_id': user_id,\n",
    "                    'open_time': open_time,\n",
    "                    'close_time': row['datetime'],\n",
    "                    'open_type': open_type,\n",
    "                    'duration_sec': duration\n",
    "                    })"
   ],
   "id": "8114c171605c3aa7",
   "outputs": [],
   "execution_count": null
  },
  {
   "metadata": {},
   "cell_type": "code",
   "source": [
    "sessions_df = pd.DataFrame(sessions)\n",
    "sessions_df.to_csv(r'data/sessions.csv', index=False)\n",
    "sessions_df"
   ],
   "id": "8e8a717f951499dc",
   "outputs": [],
   "execution_count": null
  },
  {
   "metadata": {},
   "cell_type": "markdown",
   "source": "# Quick Overview",
   "id": "3886046e7ac0e0d1"
  },
  {
   "metadata": {},
   "cell_type": "code",
   "source": "sessions_df.info()",
   "id": "8280ca66994703f5",
   "outputs": [],
   "execution_count": null
  },
  {
   "metadata": {},
   "cell_type": "code",
   "source": "print(\"Total sessions:\", len(sessions_df))",
   "id": "ab39102a453e3b1e",
   "outputs": [],
   "execution_count": null
  },
  {
   "metadata": {},
   "cell_type": "code",
   "source": "sessions_df['open_type'].value_counts()",
   "id": "7b9cf20bba487d67",
   "outputs": [],
   "execution_count": null
  },
  {
   "metadata": {},
   "cell_type": "code",
   "source": "sessions_df.groupby('open_type')['duration_sec'].describe()",
   "id": "3c3d7dc0700ac383",
   "outputs": [],
   "execution_count": null
  },
  {
   "metadata": {},
   "cell_type": "code",
   "source": [
    "fig = px.box(sessions_df, x='open_type', y='duration_sec', points='all',\n",
    "             title='Duration Distribution by Open Type', color='open_type')\n",
    "\n",
    "fig.update_layout(xaxis_title='Open Type', yaxis_title='Duration (seconds)')\n",
    "\n",
    "fig.show()"
   ],
   "id": "1f12de94ad07e558",
   "outputs": [],
   "execution_count": null
  }
 ],
 "metadata": {
  "kernelspec": {
   "display_name": "Python 3",
   "language": "python",
   "name": "python3"
  },
  "language_info": {
   "codemirror_mode": {
    "name": "ipython",
    "version": 2
   },
   "file_extension": ".py",
   "mimetype": "text/x-python",
   "name": "python",
   "nbconvert_exporter": "python",
   "pygments_lexer": "ipython2",
   "version": "2.7.6"
  }
 },
 "nbformat": 4,
 "nbformat_minor": 5
}
